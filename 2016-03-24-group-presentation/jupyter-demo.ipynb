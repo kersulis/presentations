{
 "cells": [
  {
   "cell_type": "markdown",
   "metadata": {},
   "source": [
    "# Jupyter Demo\n",
    "_By Jonas Kersulis, for 2016-03-24 group presentation_\n",
    "\n"
   ]
  },
  {
   "cell_type": "markdown",
   "metadata": {},
   "source": [
    "# Interface\n",
    "\n",
    "* The notebook lives in the browser.\n",
    "* It consists of cells.\n",
    "* Cells may be cut, copied, split, combined, and --most importantly-- run."
   ]
  },
  {
   "cell_type": "code",
   "execution_count": null,
   "metadata": {
    "collapsed": true
   },
   "outputs": [],
   "source": [
    "a = 1;"
   ]
  },
  {
   "cell_type": "code",
   "execution_count": null,
   "metadata": {
    "collapsed": true
   },
   "outputs": [],
   "source": [
    "b = 2;"
   ]
  },
  {
   "cell_type": "code",
   "execution_count": null,
   "metadata": {
    "collapsed": true
   },
   "outputs": [],
   "source": [
    "c = 3"
   ]
  },
  {
   "cell_type": "markdown",
   "metadata": {},
   "source": [
    "# Prose + math + code\n",
    "\n",
    "**Sum of squares:** Return the sum of squares of elements for a given input vector $a$.\n",
    "\n",
    "\\begin{align}\n",
    "a &= \\begin{bmatrix} a_1 & a_2 & \\cdots & a_n \\end{bmatrix} \\\\\n",
    "x &= \\sum_{i=1}^n a_i^2\n",
    "\\end{align}\n",
    "\n",
    "Also, plot the cumulative sum.\n",
    "\n",
    "One possible implementation:\n",
    "\n",
    "```octave\n",
    "sumsq = 0;\n",
    "for i = 1:length(a)\n",
    "    sumsq = [sumsq sumsq(end)+a(i)^2];\n",
    "end\n",
    "```\n",
    "\n",
    "Let's try it:"
   ]
  },
  {
   "cell_type": "code",
   "execution_count": null,
   "metadata": {
    "collapsed": false,
    "scrolled": false
   },
   "outputs": [],
   "source": [
    "a = [1 2 3 3 2 1];\n",
    "sumsq = 0;\n",
    "for i = 1:length(a)\n",
    "    sumsq = [sumsq sumsq(end)+a(i)^2];\n",
    "end\n",
    "plot(sumsq)\n",
    "xlabel('No. of elements accumulated')\n",
    "ylabel('Sum of squares of elements')"
   ]
  },
  {
   "cell_type": "markdown",
   "metadata": {},
   "source": [
    "# Language-agnostic\n",
    "\n",
    "A Jupyter notebook doesn't care which programming language you want to use. You can switch kernels any time."
   ]
  },
  {
   "cell_type": "markdown",
   "metadata": {},
   "source": [
    "# Export to any format\n",
    "Export to HTML, PDF, raw code, etc."
   ]
  }
 ],
 "metadata": {
  "kernelspec": {
   "display_name": "Matlab",
   "language": "matlab",
   "name": "matlab"
  },
  "language_info": {
   "codemirror_mode": "octave",
   "file_extension": ".m",
   "help_links": [
    {
     "text": "MetaKernel Magics",
     "url": "https://github.com/calysto/metakernel/blob/master/metakernel/magics/README.md"
    }
   ],
   "mimetype": "text/x-matlab",
   "name": "matlab",
   "version": "0.8.0"
  }
 },
 "nbformat": 4,
 "nbformat_minor": 0
}
